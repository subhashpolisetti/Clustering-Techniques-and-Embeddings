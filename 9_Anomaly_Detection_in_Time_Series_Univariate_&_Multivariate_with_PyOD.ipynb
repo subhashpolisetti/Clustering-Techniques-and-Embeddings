{
  "nbformat": 4,
  "nbformat_minor": 0,
  "metadata": {
    "colab": {
      "provenance": [],
      "authorship_tag": "ABX9TyMCi+KAVatNxpU8vb3j/HSn",
      "include_colab_link": true
    },
    "kernelspec": {
      "name": "python3",
      "display_name": "Python 3"
    },
    "language_info": {
      "name": "python"
    }
  },
  "cells": [
    {
      "cell_type": "markdown",
      "metadata": {
        "id": "view-in-github",
        "colab_type": "text"
      },
      "source": [
        "<a href=\"https://colab.research.google.com/github/subhashpolisetti/Clustering-Techniques-and-Embeddings/blob/main/9_Anomaly_Detection_in_Time_Series_Univariate_%26_Multivariate_with_PyOD.ipynb\" target=\"_parent\"><img src=\"https://colab.research.google.com/assets/colab-badge.svg\" alt=\"Open In Colab\"/></a>"
      ]
    },
    {
      "cell_type": "markdown",
      "source": [
        "# Anomaly Detection in Time Series Data (Univariate and Multivariate)\n",
        "\n",
        "In this notebook, we demonstrate how to perform anomaly detection on both univariate (single feature) and multivariate (multiple features) time series data using popular machine learning models. We use the **PyOD** library for anomaly detection and visualize the results using `matplotlib`.\n",
        "\n",
        "### Steps covered:\n",
        "1. **Univariate Anomaly Detection**:\n",
        "   - **Isolation Forest (IForest)**: A model designed to identify anomalies in a single-dimensional time series.\n",
        "   - **Synthetic Data Generation**: We create time series data with seasonal patterns and artificial anomalies inserted.\n",
        "   - **Anomaly Detection**: The `IForest` model detects anomalies based on a contamination factor, i.e., the expected percentage of outliers.\n",
        "   - **Visualization**: The anomalies are plotted on top of the original time series data to identify detected outliers.\n",
        "\n",
        "2. **Multivariate Anomaly Detection**:\n",
        "   - **K-Nearest Neighbors (KNN)**: A model that detects anomalies by finding data points that are far from their neighbors in a multi-dimensional space.\n",
        "   - **Synthetic Data Generation**: We generate multivariate data and artificially insert outliers.\n",
        "   - **Feature Scaling**: Features are scaled using `StandardScaler` for better performance in anomaly detection.\n",
        "   - **Anomaly Detection**: The `KNN` model identifies anomalies by analyzing distances in the feature space.\n",
        "   - **Visualization**: The multivariate anomalies are visualized in a 2D feature space (first two features) for easy interpretation.\n",
        "\n",
        "### Code Walkthrough:\n",
        "- **`detect_univariate_anomalies`**: Detects anomalies in a univariate time series data using the Isolation Forest algorithm.\n",
        "- **`detect_multivariate_anomalies`**: Detects anomalies in multivariate data using the K-Nearest Neighbors algorithm.\n",
        "- **`generate_sample_timeseries`**: Generates synthetic time series data with seasonal patterns and noise, and inserts anomalies at random points.\n",
        "\n",
        "### Example Results:\n",
        "- **Univariate Anomaly Detection**: Anomalies are detected and highlighted on the time series plot.\n",
        "- **Multivariate Anomaly Detection**: Anomalies are detected in a 2D feature space, and normal vs. anomalous points are plotted.\n",
        "\n",
        "The notebook showcases how both models can be applied to real-world anomaly detection tasks, allowing the detection of unusual patterns or outliers in time series data.\n",
        "\n",
        "#### Libraries Used:\n",
        "- **PyOD**: A comprehensive toolkit for detecting outlying objects in multivariate data.\n",
        "- **Scikit-learn**: For KMeans clustering and scaling.\n",
        "- **Matplotlib**: For visualizing the data and the detected anomalies.\n"
      ],
      "metadata": {
        "id": "nDfE0xutFTTo"
      }
    },
    {
      "cell_type": "code",
      "execution_count": null,
      "metadata": {
        "id": "K1a4moJ5EZnk"
      },
      "outputs": [],
      "source": []
    }
  ]
}